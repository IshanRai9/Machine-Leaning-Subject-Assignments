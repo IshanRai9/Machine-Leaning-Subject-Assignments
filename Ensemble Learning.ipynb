{
  "cells": [
    {
      "cell_type": "code",
      "execution_count": 9,
      "metadata": {
        "colab": {
          "base_uri": "https://localhost:8080/",
          "height": 1000
        },
        "id": "gAop82CX-sSQ",
        "outputId": "373bb483-a429-4026-c58d-932bca1fd9f4"
      },
      "outputs": [
        {
          "name": "stdout",
          "output_type": "stream",
          "text": [
            "<class 'pandas.core.frame.DataFrame'>\n",
            "RangeIndex: 690 entries, 0 to 689\n",
            "Data columns (total 17 columns):\n",
            " #   Column       Non-Null Count  Dtype  \n",
            "---  ------       --------------  -----  \n",
            " 0   Unnamed: 0   690 non-null    int64  \n",
            " 1   Customer_ID  690 non-null    int64  \n",
            " 2   A_1          690 non-null    int64  \n",
            " 3   A_2          690 non-null    float64\n",
            " 4   A_3          690 non-null    float64\n",
            " 5   A_4          690 non-null    int64  \n",
            " 6   A_5          690 non-null    int64  \n",
            " 7   A_6          690 non-null    int64  \n",
            " 8   A_7          690 non-null    float64\n",
            " 9   A_8          690 non-null    int64  \n",
            " 10  A_9          690 non-null    int64  \n",
            " 11  A_10         690 non-null    int64  \n",
            " 12  A_11         690 non-null    int64  \n",
            " 13  A_12         690 non-null    int64  \n",
            " 14  A_13         690 non-null    int64  \n",
            " 15  A_14         690 non-null    int64  \n",
            " 16  class        690 non-null    int64  \n",
            "dtypes: float64(3), int64(14)\n",
            "memory usage: 91.8 KB\n",
            "None\n",
            "   Unnamed: 0  Customer_ID  A_1    A_2    A_3  A_4  A_5  A_6    A_7  A_8  A_9  \\\n",
            "0           0     15776156    1  22.08  11.46    2    4    4  1.585    0    0   \n",
            "1           1     15739548    0  22.67   7.00    2    8    4  0.165    0    0   \n",
            "2           2     15662854    0  29.58   1.75    1    4    4  1.250    0    0   \n",
            "3           3     15687688    0  21.67  11.50    1    5    3  0.000    1    1   \n",
            "4           4     15715750    1  20.17   8.17    2    6    4  1.960    1    1   \n",
            "\n",
            "   A_10  A_11  A_12  A_13  A_14  class  \n",
            "0     0     1     2   100  1213      0  \n",
            "1     0     0     2   160     1      0  \n",
            "2     0     1     2   280     1      0  \n",
            "3    11     1     2     0     1      1  \n",
            "4    14     0     2    60   159      1  \n",
            "class\n",
            "1    307\n",
            "0    307\n",
            "Name: count, dtype: int64\n"
          ]
        },
        {
          "data": {
            "image/png": "[encoded data removed]",
            "text/plain": [
              "<Figure size 640x480 with 1 Axes>"
            ]
          },
          "metadata": {},
          "output_type": "display_data"
        },
        {
          "name": "stdout",
          "output_type": "stream",
          "text": [
            "Random Forest Accuracy: 0.8768472906403941\n",
            "Blended Logistic Regression Accuracy: 0.9014778325123153\n"
          ]
        }
      ],
      "source": [
        "# Step 1: Import Libraries\n",
        "import pandas as pd\n",
        "from sklearn.model_selection import train_test_split\n",
        "from sklearn.preprocessing import MinMaxScaler\n",
        "from sklearn.ensemble import RandomForestClassifier\n",
        "from sklearn.tree import DecisionTreeClassifier\n",
        "from sklearn.neighbors import KNeighborsClassifier\n",
        "from sklearn.linear_model import LogisticRegression\n",
        "from sklearn.metrics import accuracy_score\n",
        "import matplotlib.pyplot as plt\n",
        "\n",
        "# Step 2: Load the dataset\n",
        "# Load the CSV file\n",
        "file_path = '/content/Credit_Card_Fraud_Detection.csv'  # Update this to the correct file path\n",
        "fraud_data = pd.read_csv(file_path)\n",
        "\n",
        "# Step 3: Explore the data (Optional)\n",
        "print(fraud_data.info())\n",
        "print(fraud_data.head())\n",
        "\n",
        "# Step 4: Handle Imbalance in the Target Variable (Assuming `class` column indicates fraud status)\n",
        "fraud_class_1 = fraud_data[fraud_data['class'] == 1]  # Fraud cases\n",
        "fraud_class_0 = fraud_data[fraud_data['class'] == 0].sample(len(fraud_class_1))  # Non-fraud cases (undersampling)\n",
        "\n",
        "# Balance the dataset\n",
        "final_fraud_data = pd.concat([fraud_class_1, fraud_class_0])\n",
        "\n",
        "# Plot value counts for the class column\n",
        "print(final_fraud_data['class'].value_counts())\n",
        "final_fraud_data['class'].value_counts().plot(kind='barh')\n",
        "plt.xlabel('Count')\n",
        "plt.ylabel('Class (0 = Fully Paid, 1 = Not Fully Paid)')\n",
        "plt.title('Distribution of Loan Repayment Status')\n",
        "plt.show()\n",
        "\n",
        "# Step 5: Normalize the features\n",
        "scaler = MinMaxScaler(feature_range=(0, 1))\n",
        "\n",
        "X = final_fraud_data.drop('class', axis=1)  # Features\n",
        "y = final_fraud_data['class']  # Target\n",
        "\n",
        "normalized_X = scaler.fit_transform(X)\n",
        "\n",
        "# Step 6: Split the data into training and testing sets\n",
        "r_state = 2023\n",
        "t_size = 0.33\n",
        "\n",
        "X_train, X_test, y_train, y_test = train_test_split(normalized_X, y, test_size=t_size, random_state=r_state, stratify=y)\n",
        "\n",
        "# Step 7: Train a RandomForestClassifier model\n",
        "random_forest_model = RandomForestClassifier()\n",
        "random_forest_model.fit(X_train, y_train)\n",
        "\n",
        "# Step 8: Make predictions and evaluate the RandomForest model\n",
        "y_pred_rf = random_forest_model.predict(X_test)\n",
        "accuracy_rf = accuracy_score(y_test, y_pred_rf)\n",
        "print(f\"Random Forest Accuracy: {accuracy_rf}\")\n",
        "\n",
        "# Step 9: Ensemble Learning (Blending)\n",
        "# Train Decision Tree and KNN models\n",
        "dt_model = DecisionTreeClassifier()\n",
        "dt_model.fit(X_train, y_train)\n",
        "y_pred_dt = dt_model.predict(X_test)\n",
        "\n",
        "knn_model = KNeighborsClassifier()\n",
        "knn_model.fit(X_train, y_train)\n",
        "y_pred_knn = knn_model.predict(X_test)\n",
        "\n",
        "# Step 10: Combine Predictions for Logistic Regression\n",
        "X_test_combined = pd.DataFrame(X_test)  # Original test features\n",
        "X_test_combined['DT_Pred'] = y_pred_dt  # Decision Tree predictions\n",
        "X_test_combined['KNN_Pred'] = y_pred_knn  # KNN predictions\n",
        "\n",
        "# Convert all column names in X_test_combined to strings\n",
        "X_test_combined.columns = X_test_combined.columns.astype(str)\n",
        "\n",
        "# Logistic Regression on blended features\n",
        "lr_model = LogisticRegression()\n",
        "lr_model.fit(X_test_combined, y_test)\n",
        "\n",
        "y_pred_lr = lr_model.predict(X_test_combined)\n",
        "accuracy_lr = accuracy_score(y_test, y_pred_lr)\n",
        "print(f\"Blended Logistic Regression Accuracy: {accuracy_lr}\")\n"
      ]
    }
  ],
  "metadata": {
    "colab": {
      "provenance": []
    },
    "kernelspec": {
      "display_name": "Python 3",
      "name": "python3"
    },
    "language_info": {
      "name": "python"
    }
  },
  "nbformat": 4,
  "nbformat_minor": 0
}
