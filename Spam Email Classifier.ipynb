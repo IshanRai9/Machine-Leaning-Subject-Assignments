{
  "cells": [
    {
      "cell_type": "markdown",
      "metadata": {
        "id": "uj4hA0vlSXkP"
      },
      "source": [
        "Develop a classification model to automatically detect and filter out spam emails from a user's inbox."
      ]
    },
    {
      "cell_type": "code",
      "execution_count": 8,
      "metadata": {
        "colab": {
          "base_uri": "https://localhost:8080/"
        },
        "id": "GeqgnbArr0QU",
        "outputId": "2812203f-d8a0-47b2-b493-3a3544e13d4d"
      },
      "outputs": [
        {
          "name": "stderr",
          "output_type": "stream",
          "text": [
            "[nltk_data] Downloading package stopwords to /root/nltk_data...\n",
            "[nltk_data]   Package stopwords is already up-to-date!\n"
          ]
        },
        {
          "name": "stdout",
          "output_type": "stream",
          "text": [
            "Accuracy: 0.97\n",
            "Precision: 0.95\n",
            "Recall: 0.95\n",
            "F1-score: 0.95\n",
            "Confusion Matrix:\n",
            "[[728  14]\n",
            " [ 14 279]]\n",
            "Email classification: Spam\n",
            "Spam probability: 0.93\n"
          ]
        }
      ],
      "source": [
        "import numpy as np\n",
        "import pandas as pd\n",
        "from sklearn.model_selection import train_test_split\n",
        "from sklearn.feature_extraction.text import CountVectorizer\n",
        "from sklearn.naive_bayes import MultinomialNB\n",
        "from sklearn.metrics import accuracy_score, precision_score, recall_score, f1_score, confusion_matrix\n",
        "import nltk\n",
        "from nltk.corpus import stopwords\n",
        "from nltk.stem import PorterStemmer\n",
        "import re\n",
        "# Download necessary NLTK data\n",
        "nltk.download('stopwords')\n",
        "# Step 1: Data Collection and Preprocessing\n",
        "def preprocess_text(text):\n",
        "# Convert to lowercase\n",
        "  text = text.lower()\n",
        "# Remove punctuation and special characters\n",
        "  text = re.sub(r'[^\\w\\s]', '', text)\n",
        "# Remove numbers\n",
        "  text = re.sub(r'\\d+', '', text)\n",
        "# Remove stopwords\n",
        "  stop_words = set(stopwords.words('english'))\n",
        "  words = text.split()\n",
        "  words = [word for word in words if word not in stop_words]\n",
        "# Stemming\n",
        "  stemmer = PorterStemmer()\n",
        "  words = [stemmer.stem(word) for word in words]\n",
        "  return ' '.join(words)\n",
        "# Load the dataset (assuming we have a CSV file with 'text' and 'label' columns)\n",
        "data = pd.read_csv('/spam_ham_dataset.csv')\n",
        "data['processed_text'] = data['text'].apply(preprocess_text)\n",
        "# Split the data\n",
        "X_train, X_test, y_train, y_test = train_test_split(data['processed_text'], data['label'], test_size=0.2, random_state=42)\n",
        "# Step 2: Feature Extraction\n",
        "vectorizer = CountVectorizer()\n",
        "X_train_vectorized = vectorizer.fit_transform(X_train)\n",
        "X_test_vectorized = vectorizer.transform(X_test)\n",
        "# Step 3: Model Selection and Training\n",
        "classifier = MultinomialNB()\n",
        "classifier.fit(X_train_vectorized, y_train)\n",
        "# Step 4: Model Evaluation\n",
        "y_pred = classifier.predict(X_test_vectorized)\n",
        "accuracy = accuracy_score(y_test, y_pred)\n",
        "precision = precision_score(y_test, y_pred, pos_label='spam')\n",
        "recall = recall_score(y_test, y_pred, pos_label='spam')\n",
        "f1 = f1_score(y_test, y_pred, pos_label='spam')\n",
        "conf_matrix = confusion_matrix(y_test, y_pred)\n",
        "print(f\"Accuracy: {accuracy:.2f}\")\n",
        "print(f\"Precision: {precision:.2f}\")\n",
        "print(f\"Recall: {recall:.2f}\")\n",
        "print(f\"F1-score: {f1:.2f}\")\n",
        "print(\"Confusion Matrix:\")\n",
        "print(conf_matrix)\n",
        "# Step 5: Model Deployment and Use\n",
        "def classify_email(email_text, classifier, vectorizer):\n",
        "  processed_email = preprocess_text(email_text)\n",
        "  vectorized_email = vectorizer.transform([processed_email])\n",
        "  prediction = classifier.predict(vectorized_email)\n",
        "  spam_prob = classifier.predict_proba(vectorized_email)[0][1] # Probability of being spam\n",
        "  return prediction[0], spam_prob\n",
        "# Example usage\n",
        "new_email = \"Get rich quick! Buy our amazing product now!\"\n",
        "prediction, spam_probability = classify_email(new_email, classifier, vectorizer)\n",
        "print(f\"Email classification: {'Spam' if prediction == 'spam' else 'Not Spam'}\")\n",
        "print(f\"Spam probability: {spam_probability:.2f}\")"
      ]
    },
    {
      "cell_type": "markdown",
      "metadata": {
        "id": "CnWuWZUpSWAw"
      },
      "source": []
    }
  ],
  "metadata": {
    "colab": {
      "provenance": []
    },
    "kernelspec": {
      "display_name": "Python 3",
      "name": "python3"
    },
    "language_info": {
      "name": "python"
    }
  },
  "nbformat": 4,
  "nbformat_minor": 0
}
